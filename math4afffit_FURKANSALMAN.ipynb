{
  "nbformat": 4,
  "nbformat_minor": 0,
  "metadata": {
    "colab": {
      "provenance": [],
      "toc_visible": true,
      "include_colab_link": true
    },
    "kernelspec": {
      "name": "python3",
      "display_name": "Python 3"
    }
  },
  "cells": [
    {
      "cell_type": "markdown",
      "metadata": {
        "id": "view-in-github",
        "colab_type": "text"
      },
      "source": [
        "<a href=\"https://colab.research.google.com/github/Frknslmn50/EADIR_23L/blob/master/math4afffit_FURKANSALMAN.ipynb\" target=\"_parent\"><img src=\"https://colab.research.google.com/assets/colab-badge.svg\" alt=\"Open In Colab\"/></a>"
      ]
    },
    {
      "cell_type": "markdown",
      "metadata": {
        "id": "nNQzUqNOTOxu"
      },
      "source": [
        "copyright 2020: *Władysław Skarbek, Warsaw University of Technology*<br>\n",
        "(Jupyter notebook addressed to students of: EADIR, GSN, MATMU)\n",
        "$\\newcommand{\\xx}[2]{(#1)(#2)}$\n",
        "$\\newcommand{\\bb}[1]{\\mathbb{#1}}$\n",
        "$\\newcommand{\\cl}[1]{\\mathcal{#1}}$\n",
        "$\\newcommand{\\tp}[1]{{#1}^{\\intercal}}$\n",
        "$\\newcommand{\\tr}[1]{\\text{trace}\\left[#1\\right]}$\n",
        "$\\newcommand{\\inv}[1]{\\in\\bb{R}^{#1}}$\n",
        "$\\newcommand{\\inm}[2]{\\in\\bb{R}^{#1\\times#2}}$\n",
        "$\\newcommand{\\invc}[1]{\\in\\bb{C}^{#1}}$\n",
        "$\\newcommand{\\inmc}[2]{\\in\\bb{C}^{#1\\times#2}}$\n",
        "$\\newcommand{\\rbox}[2]{\\mathrel{\\raise{#1}{#2}}}$\n",
        "$\\newcommand{\\xconv}[5]{\n",
        "\\begin{array}[]{r}{\\tiny{#4\\ }}\\\\\\raise{2.5pt}{{\\tiny{#3}}}\\end{array}\n",
        "\\kern{-4pt}\n",
        "\\begin{array}[]{l}{\\LARGE\\bb{C}}\\kern{-6.5pt}\\raise{4.5pt}{{\\tiny{#5}}}\\end{array}\n",
        "\\kern{0pt}\n",
        "\\begin{array}[]{l}{\\tiny {#2}}\\\\\\raise{2.5pt}{{\\tiny{#1}}}\\end{array}}$\n",
        "$\\newcommand{\\xdense}[5]{\n",
        "\\begin{array}[]{r}{\\tiny{#4\\ }}\\\\\\raise{1.5pt}{{\\tiny{#3}}}\\end{array}\n",
        "\\kern{-4pt}\n",
        "\\begin{array}[]{l}{\\LARGE\\bb{F}}\\kern{-4.5pt}\\raise{1.5pt}{{\\tiny{#5}}}\\end{array}\n",
        "\\kern{2pt}\n",
        "\\begin{array}[]{l}{\\tiny {#2}}\\\\\\raise{1.5pt}{{\\tiny{#1}}}\\end{array}}$\n",
        "$\\newcommand{\\xpool}[5]{\n",
        "\\begin{array}[]{r}{\\tiny{#4\\ }}\\\\\\raise{1.5pt}{{\\tiny{#3}}}\\end{array}\n",
        "\\kern{-3pt}\n",
        "\\begin{array}[]{l}{\\LARGE\\bb{P}}\\kern{-6.5pt}\\raise{0.8pt}{{\\tiny{#5}}}\\end{array}\n",
        "\\kern{0pt}\n",
        "\\begin{array}[]{l}{\\tiny {#2}}\\\\\\raise{1.5pt}{{\\tiny{#1}}}\\end{array}}$\n",
        "$\\newcommand{\\xinp}[5]{\n",
        "\\begin{array}[]{r}{\\tiny{#4\\ }}\\\\\\raise{1.5pt}{{\\tiny{#3}}}\\end{array}\n",
        "\\kern{-4pt}\n",
        "\\begin{array}[]{l}{\\LARGE\\cl{I}}\\kern{-4.5pt}\\raise{1.5pt}{{\\tiny{#5}}}\\end{array}\n",
        "\\kern{2pt}\n",
        "\\begin{array}[]{l}{\\tiny {#2}}\\\\\\raise{1.5pt}{{\\tiny{#1}}}\\end{array}}$\n",
        "$\\newcommand{\\xdrop}[5]{\n",
        "\\begin{array}[]{r}{\\tiny{#4\\ }}\\\\\\raise{1.5pt}{{\\tiny{#3}}}\\end{array}\n",
        "\\kern{-4pt}\n",
        "\\begin{array}[]{l}{\\LARGE\\bb{D}}\\kern{-4.5pt}\\raise{1.5pt}{{\\tiny{#5}}}\\end{array}\n",
        "\\kern{0.5pt}\n",
        "\\begin{array}[]{l}{\\tiny {#2}}\\\\\\raise{1.5pt}{{\\tiny{#1}}}\\end{array}}$\n",
        "$\\newcommand{\\xmerge}[5]{\n",
        "\\begin{array}[]{r}{\\tiny{#4\\ }}\\\\\\raise{1.5pt}{{\\tiny{#3}}}\\end{array}\n",
        "\\kern{-4pt}\n",
        "\\begin{array}[]{l}{\\LARGE\\bb{M}}\\kern{-4.5pt}\\raise{1.5pt}{{\\tiny{#5}}}\\end{array}\n",
        "\\kern{2pt}\n",
        "\\begin{array}[]{l}{\\tiny {#2}}\\\\\\raise{1.5pt}{{\\tiny{#1}}}\\end{array}}$\n",
        "$\\newcommand{\\xgeneral}[5]{\n",
        "\\begin{array}[]{r}{\\tiny{#4\\ }}\\\\\\raise{1.5pt}{{\\tiny{#3}}}\\end{array}\n",
        "\\kern{-4pt}\n",
        "\\begin{array}[]{l}{\\LARGE\\bb{Q}}\\kern{-9.0pt}\\raise{4.5pt}{{\\tiny{#5}}}\\end{array}\n",
        "\\kern{2pt}\n",
        "\\begin{array}[]{l}{\\tiny {#2}}\\\\\\raise{1.5pt}{{\\tiny{#1}}}\\end{array}}$\n",
        "$\\def\\ds{\\displaystyle}$\n",
        "$\\def\\ass{\\leftarrow}$\n",
        "$\\def\\od#1#2{\\nabla_{#2}#1}$\n",
        "$\\def\\tod#1#2{\\tp{\\nabla}_{#2}{#1}}$\n",
        "$\\def\\cl#1{{\\cal#1}}$\n",
        "$\\def\\sp#1#2{\\frac{\\partial#1}{\\partial#2}}$\n",
        "$\\def\\eqd{\\doteq}$\n",
        "$\\def\\ra{\\rightarrow}$\n",
        "$\\def\\lra{\\longrightarrow}$\n",
        "$\\def\\ovra#1{\\overset{#1}{\\lra}}$\n",
        "$\\def\\dra{\\overset{\\circ}{\\lra}}$\n",
        "$\\def\\xeq#1{\\overset{#1}{=}}$\n",
        "$\\def\\ov#1{\\overline{#1}}$\n",
        "$\\def\\dotp#1#2{\\left\\langle#1,#2\\right\\rangle}$\n",
        "$\\def\\th#1{\\ov{#1}^{\\intercal}}$\n",
        "$\\def\\rv#1{\\widetilde{#1}}$\n",
        "$\\def\\vars#1#2{\\mathtt{var}_{#1}{\\left[#2\\right]}}$\n",
        "$\\def\\pmodd#1{\\kern{-1mm}\\pmod{#1}}$\n",
        "$\\def\\pdt#1#2#3{\\frac{\\partial^2 #1}{\\partial #2\\partial #3}}$\n",
        "$\\def\\diag#1{\\mathtt{diag}\\left[#1\\right]}$\n",
        "$\\def\\rank#1{\\mathtt{rank}\\left[#1\\right]}$\n",
        "$\\def\\tr#1{\\mathtt{tr}\\left[#1\\right]}$\n"
      ]
    },
    {
      "cell_type": "markdown",
      "metadata": {
        "id": "3DTnQZdyG0so"
      },
      "source": [
        "# Mathematics of clouds fitting"
      ]
    },
    {
      "cell_type": "markdown",
      "metadata": {
        "id": "GJ_Z7kADqJTS"
      },
      "source": [
        "###EVD  decomposition"
      ]
    },
    {
      "cell_type": "markdown",
      "metadata": {
        "id": "YLanzZMMThpi"
      },
      "source": [
        "####Eigenvalue definition\n",
        "\n",
        "For a complex squared matrix $C\\inmc{n}{n}$ a *spectrum*\n",
        "$\\lambda(C)\\subset\\bb{C}$ is defined:\n",
        "$\n",
        "\\lambda(C) \\eqd \\{\\lambda\\in\\bb{C}: \\det(C-\\lambda I_n)=0\\}\n",
        "$\n",
        "* The function  $p(\\lambda)\\eqd\\det(C-\\lambda I_n)$ is *characteristic polynomial* of $C.$ \n",
        "* *Matrix spectrum is finite:*:<br>If $C\\inmc{n}{n}$ then $\\left|\\lambda(C)\\right|\\leq n.$\n",
        "* Elements of spectrum are called *eigenvalues*: $\\lambda\\in\\lambda(C)$ if and only \n",
        "$\\exists u\\invc{n}, Cu=\\lambda u.$\n",
        "* The vector $u$ scaled with $C$ by $\\lambda$ is called *eigenvector* of $C$ wrt $\\lambda.$\n",
        "* Each eigenvalue determines an *eigen-subspace* of eigenvectors:<br>\n",
        "If $\\lambda\\in\\lambda(C)$ then the set $\\cl{E}_{\\lambda}\\eqd\\{u: Cu=\\lambda u\\}$  is the subspace of $\\bb{C}^n.$\n",
        "\n"
      ]
    },
    {
      "cell_type": "code",
      "metadata": {
        "id": "js3GA8kkg6kL",
        "colab": {
          "base_uri": "https://localhost:8080/"
        },
        "outputId": "4b38cc4e-c87d-48d6-97d0-3f64b4a292ae"
      },
      "source": [
        "import sympy as sym\n",
        "x = sym.Symbol('x'); y = sym.Symbol('y')\n",
        "print(sym.expand((x + y) ** 3))\n",
        "print(sym.expand((x-1)*(x+1)))"
      ],
      "execution_count": null,
      "outputs": [
        {
          "output_type": "stream",
          "name": "stdout",
          "text": [
            "x**3 + 3*x**2*y + 3*x*y**2 + y**3\n",
            "x**2 - 1\n"
          ]
        }
      ]
    },
    {
      "cell_type": "code",
      "metadata": {
        "id": "nP9unskkjHFf",
        "colab": {
          "base_uri": "https://localhost:8080/"
        },
        "outputId": "937387cc-54ed-4f08-bb53-e8ce7a741dbe"
      },
      "source": [
        "As = sym.Matrix([[1,2],[3,4]])\n",
        "xI = sym.Matrix([[x,0],[0,x]])\n",
        "ex = sym.expand(xI-As); print(ex)\n",
        "d = ex.det(); print(d)\n",
        "p = sym.expand(d); print(p)\n",
        "sym.nroots(p)"
      ],
      "execution_count": null,
      "outputs": [
        {
          "output_type": "stream",
          "name": "stdout",
          "text": [
            "Matrix([[x - 1, -2], [-3, x - 4]])\n",
            "x**2 - 5*x - 2\n",
            "x**2 - 5*x - 2\n"
          ]
        },
        {
          "output_type": "execute_result",
          "data": {
            "text/plain": [
              "[-0.372281323269014, 5.37228132326901]"
            ]
          },
          "metadata": {},
          "execution_count": 2
        }
      ]
    },
    {
      "cell_type": "code",
      "metadata": {
        "id": "D1H8ydlkuAug",
        "colab": {
          "base_uri": "https://localhost:8080/"
        },
        "outputId": "e30d882c-36da-46a3-9970-2017588965c6"
      },
      "source": [
        "import numpy as np\n",
        "from numpy.linalg import eig, svd, norm, cholesky\n",
        "A = np.array([[1,-2,3],[-4,5,6],[7,8,-9]])\n",
        "A, eig(A)"
      ],
      "execution_count": null,
      "outputs": [
        {
          "output_type": "execute_result",
          "data": {
            "text/plain": [
              "(array([[ 1, -2,  3],\n",
              "        [-4,  5,  6],\n",
              "        [ 7,  8, -9]]),\n",
              " (array([-13.76691494,   2.78453226,   7.98238268]),\n",
              "  array([[ 0.23127389,  0.84043331, -0.09343993],\n",
              "         [ 0.34064779,  0.05826955,  0.91498738],\n",
              "         [-0.91130208,  0.53877315,  0.3925138 ]])))"
            ]
          },
          "metadata": {},
          "execution_count": 3
        }
      ]
    },
    {
      "cell_type": "markdown",
      "metadata": {
        "id": "ucRHMnNNBlyT"
      },
      "source": [
        "***Exercise*** Check the eigenvalues in the last example using symbolic computation."
      ]
    },
    {
      "cell_type": "markdown",
      "source": [
        "Solution:"
      ],
      "metadata": {
        "id": "e2zcXdQTv_JN"
      }
    },
    {
      "cell_type": "code",
      "source": [
        "x = sym.Symbol('x');\n",
        "As = sym.Matrix([[1,-2,3],[-4,5,6],[7,8,-9]])\n",
        "xI = sym.Matrix([[x,0,0],[0,x,0],[0,0,x]])\n",
        "ex = sym.expand(xI-As);\n",
        "d = ex.det();\n",
        "p = sym.expand(d);\n",
        "sym.nroots(p)"
      ],
      "metadata": {
        "id": "tAMSdM3gu6p-",
        "colab": {
          "base_uri": "https://localhost:8080/"
        },
        "outputId": "454880c6-cc83-4263-8049-97f430e26d23"
      },
      "execution_count": null,
      "outputs": [
        {
          "output_type": "execute_result",
          "data": {
            "text/plain": [
              "[-13.7669149364246, 2.78453225678850, 7.98238267963608]"
            ]
          },
          "metadata": {},
          "execution_count": 4
        }
      ]
    },
    {
      "cell_type": "markdown",
      "source": [
        "Getting the same results using symbolic notation."
      ],
      "metadata": {
        "id": "J-Vv2km60eNB"
      }
    },
    {
      "cell_type": "markdown",
      "metadata": {
        "id": "Zd05GZvIVKBZ"
      },
      "source": [
        "##### Eigenvalue problem for symmetric matrices\n",
        "\n",
        " * *Conjugate transposition* $\\th{C}$ of a complex squared matrix $C$ is defined elementwise: \n",
        "$\n",
        "(\\th{C})_{ij}\\eqd \\ov{C}_{ji},\\ i,j=1,\\dots,n\n",
        "$\n",
        "* $C$ is *Hermitian* if and only if $\\th{C}=C.$\n",
        "* Eigenvalues of symmetric matrix are real numbers:<br>\n",
        "If $C=\\tp{C}$ then $\\lambda(C)\\subset\\bb{R}$\n",
        "* *Orthogonality of eigenvectors* wrt different eigenvalues:<br>\n",
        "If $Cu_i=\\lambda_i u_i,\\ Cu_j=\\lambda_j u_j$ and $\\lambda_1\\neq\\lambda_2$ then $\\tp{u}_iu_j=0.$\n",
        "* *Orthogonal eigenvector base*  exists for symmetric matrices:<br> \n",
        "Let $\\mathtt{obase}(\\cl{S})$ denotes any orthogonal base for the subspace $\\cl{S}.$<br> \n",
        "Then\n",
        "$\\ds\n",
        "\\mathtt{obase}\\left(\\bb{C}^n\\right) \\eqd \\bigcup_{\\lambda\\in\\lambda(C)}\\mathtt{obase}\\left(\\cl{E}_{\\lambda}\\right)\n",
        "$\n"
      ]
    },
    {
      "cell_type": "markdown",
      "metadata": {
        "id": "jwC95vkFW6E7"
      },
      "source": [
        "####Eigenvalue decomposition\n",
        "\n",
        "\n",
        "Let the eigenvector base established wrt $C\\inmc{n}{n}$ be written into columns of matrix $U$ according the decreasing order of eigenvalues:\n",
        "$$\n",
        "\\begin{array}{l}\n",
        "Cu_i = \\lambda_iu_i,\\ i=1,\\dots,n\\\\[5pt]\n",
        "U \\eqd [u_1,\\dots,u_n],\\ \\lambda_1\\geq\\dots\\geq\\lambda_n,\\ \n",
        "\\Lambda \\eqd \\diag{\\lambda_1,\\dots,\\lambda_n}\n",
        "\\end{array}\n",
        "$$\n",
        "\n",
        "The *eigenvector matrix* $U$ and *eigenvalue matrix* $\\Lambda$ specify EVD (*EigenValue Decomposition*):<br>\n",
        "Spectral theorem for symmetric $C\\inmc{n}{n}:$\n",
        "$$\n",
        "C = U\\Lambda \\tp{U} = \\sum_{i=1}^n\\lambda_iu_i\\tp{u}_i\n",
        "$$\n"
      ]
    },
    {
      "cell_type": "code",
      "metadata": {
        "id": "ioWXQ096ugNW",
        "colab": {
          "base_uri": "https://localhost:8080/"
        },
        "outputId": "b2ccfd6b-8e3f-458b-d69d-afe1a518fdab"
      },
      "source": [
        "B = np.dot(A,A.T)\n",
        "lambdas,U = eigvals, eigvecs = eig(B)\n",
        "Lambda = np.diag(lambdas)\n",
        "print(B, '\\n', np.dot(np.dot(eigvecs,np.diag(eigvals)),eigvecs.T))\n",
        "B-np.dot(np.dot(U,Lambda),U.T)"
      ],
      "execution_count": null,
      "outputs": [
        {
          "output_type": "stream",
          "name": "stdout",
          "text": [
            "[[ 14   4 -36]\n",
            " [  4  77 -42]\n",
            " [-36 -42 194]] \n",
            " [[ 14.   4. -36.]\n",
            " [  4.  77. -42.]\n",
            " [-36. -42. 194.]]\n"
          ]
        },
        {
          "output_type": "execute_result",
          "data": {
            "text/plain": [
              "array([[-1.06581410e-14,  1.90958360e-14, -7.10542736e-15],\n",
              "       [ 2.04281037e-14,  1.42108547e-14, -1.42108547e-14],\n",
              "       [-7.10542736e-15, -1.42108547e-14, -8.52651283e-14]])"
            ]
          },
          "metadata": {},
          "execution_count": 5
        }
      ]
    },
    {
      "cell_type": "markdown",
      "metadata": {
        "id": "eT8QTDan_smR"
      },
      "source": [
        "###SVD by EVD\n",
        "\n",
        "If $A\\tp{A}\\overset{evd}{=} U\\Lambda\\tp{U}$ and $\\tp{A}A\\overset{evd}{=} V\\Lambda\\tp{V}$ then $A\\overset{svd}{=}U\\sqrt{\\Lambda}\\tp{V}.$"
      ]
    },
    {
      "cell_type": "code",
      "metadata": {
        "id": "WHro_kVZLa4K",
        "colab": {
          "base_uri": "https://localhost:8080/"
        },
        "outputId": "13494bbd-c50a-4cb3-af27-e0a105d3a370"
      },
      "source": [
        "s2,U = eig(np.dot(A,A.T))\n",
        "s3,V = eig(np.dot(A.T,A))\n",
        "print(s2,s3,'\\n',U,'\\n',V)\n",
        "UU,s,VVt = svd(A)\n",
        "print(s*s,'\\n',UU,'\\n',VVt.T)"
      ],
      "execution_count": null,
      "outputs": [
        {
          "output_type": "stream",
          "name": "stdout",
          "text": [
            "[213.8312464   6.8032865  64.3654671] [213.8312464   6.8032865  64.3654671] \n",
            " [[ 0.17517411  0.977064   -0.12107839]\n",
            " [ 0.29357441  0.06554757  0.95368631]\n",
            " [-0.93974895  0.20260667  0.27535875]] \n",
            " [[-0.51818244 -0.81781672 -0.25032533]\n",
            " [-0.43769958  0.00212276  0.89911877]\n",
            " [ 0.73478298 -0.57547486  0.35905802]]\n",
            "[213.8312464  64.3654671   6.8032865] \n",
            " [[ 0.17517411  0.12107839 -0.977064  ]\n",
            " [ 0.29357441 -0.95368631 -0.06554757]\n",
            " [-0.93974895 -0.27535875 -0.20260667]] \n",
            " [[-0.51818244  0.25032533 -0.81781672]\n",
            " [-0.43769958 -0.89911877  0.00212276]\n",
            " [ 0.73478298 -0.35905802 -0.57547486]]\n"
          ]
        }
      ]
    },
    {
      "cell_type": "markdown",
      "metadata": {
        "id": "m7XZ3GARCgIf"
      },
      "source": [
        "###Nonnegatively defined matrices"
      ]
    },
    {
      "cell_type": "markdown",
      "metadata": {
        "id": "Ors-Ni5U9ltN"
      },
      "source": [
        "If $A\\inm{n}{n}$ and $\\tp{A}=A$ then the nonnegativity is satisfied if and only if $\\tp{x}Ax\\geq 0$ for all $x\\inv{n}.$"
      ]
    },
    {
      "cell_type": "markdown",
      "metadata": {
        "id": "yQjmkXrwqXxH"
      },
      "source": [
        "###Cholesky decomposition\n",
        "\n",
        "If $B\\inm{n}{n}$ is symmetric and nonnegatively defined then ther exists lower triangular matrix $X\\inm{n}{n}$ such that $B=X\\tp{X}.$ "
      ]
    },
    {
      "cell_type": "code",
      "metadata": {
        "id": "bxWLY0puqqjy",
        "colab": {
          "base_uri": "https://localhost:8080/"
        },
        "outputId": "b0b010cf-b420-4cf0-deee-b66b6f8cdf7e"
      },
      "source": [
        "B = np.dot(A,A.T)\n",
        "X = cholesky(B) \n",
        "print(B,'\\n',X,'\\n',np.dot(X,X.T))"
      ],
      "execution_count": null,
      "outputs": [
        {
          "output_type": "stream",
          "name": "stdout",
          "text": [
            "[[ 14   4 -36]\n",
            " [  4  77 -42]\n",
            " [-36 -42 194]] \n",
            " [[ 3.74165739  0.          0.        ]\n",
            " [ 1.06904497  8.70960061  0.        ]\n",
            " [-9.62140471 -3.64130195  9.3898611 ]] \n",
            " [[ 14.   4. -36.]\n",
            " [  4.  77. -42.]\n",
            " [-36. -42. 194.]]\n"
          ]
        }
      ]
    },
    {
      "cell_type": "markdown",
      "metadata": {
        "id": "rASiB5c5lgXp"
      },
      "source": [
        "###Generalized Procrustes problem\n",
        "\n",
        "The generalized Procrustes problem refers to the optimal matching of the source 3D solid object to the another solid 3D object, when in matching process we can apply any affine transformations.\n",
        "\n",
        "In applications related to 3D model identification mostly we deal with clouds of 3D points than with solid 3D objects.\n",
        "\n",
        "In mathematical terms we state the problem as the optimization least square problem:<br>\n",
        " having the source cloud of points $C\\inm{3}{N}$ and the corresponding target cloud of points $C'\\inm{3}{N}$,<br>\n",
        " find the rotation matrix $R\\inm{3}{3}$, the scaling coefficient $s\\in\\bb{R}_+$ and the translation vector $b\\inv{3}$<br> \n",
        " minimizing the following loss function:\n",
        "$\\boxed{\\cl{E}(R,s,b) \\eqd \\left\\|sRC+b\\tp{1}_N-C'\\right\\|^2}$.\n",
        "\n",
        "The above optimization problem is called *the generalized Procrustes problem*<br> and there is a closed form solution based on *SVD matrix decomposition* <br>\n",
        "$\\ov{C}'\\tp{\\ov{C}}\\overset{svd}{=}U\\Sigma\\tp{V}$, where $\\ov{C}\\eqd C-\\ov{c}\\tp{1}_N$ is the centering operator for the cloud of the points, i.e. such translation of all points to get their centroid  $\\ov{c}\\eqd\\ds\\frac{1}{N}\\sum_{i\\in[N]}c_i,$  to be loacted in the origin of the coordinate system."
      ]
    },
    {
      "cell_type": "markdown",
      "metadata": {
        "id": "g1m21LcG1Ip_"
      },
      "source": [
        "#####**Question** (on use of Procrustes name)\n",
        "Who was Procrustes? Is he really dealt with the above problem?"
      ]
    },
    {
      "cell_type": "markdown",
      "source": [
        "**Answer**:"
      ],
      "metadata": {
        "id": "X-KdiE-53xOP"
      }
    },
    {
      "cell_type": "markdown",
      "source": [
        "In Greek mythology, Procrustes was a bandit who would ambush travelers and force them to fit onto an iron bed. If they were too tall, he would chop off their legs to make them fit, and if they were too short, he would stretch them out. The name \"Procrustes\" has been used metaphorically to describe any situation where something is forced to fit into a preconceived mold.\n",
        "\n",
        "In the context of mathematics, the term \"Procrustes problem\" refers to the task of finding the best transformation that aligns two sets of data. The term is not directly related to the mythological figure, but it is inspired by the idea of forcing something to fit a predetermined shape. The Procrustes problem is a common task in fields such as computer vision and data analysis, where it is often used to align 3D models or to compare datasets."
      ],
      "metadata": {
        "id": "3IqyqFSa3vgn"
      }
    },
    {
      "cell_type": "markdown",
      "metadata": {
        "id": "WMpFVUWOWAr9"
      },
      "source": [
        "#####**Exercise (math)** (Loss function - from quadratic norm of affine fit to sum of squared errors)\n",
        "\n",
        "Let point matrices be detailed by the points $c_i,c'_i$ they represent:\n",
        "$$C=[c_0,c_1,\\dots,c_{N-1}],\\quad C'=[c'_0,c'_1,\\dots,c'_{N-1}]$$ \n",
        "Rewrite the loss function $\\cl{E}(R,s,b) \\eqd \\left\\|sRC+b\\tp{1}_N-C'\\right\\|^2$ in the form:\n",
        "$$\n",
        "\\cl{E}(R,s,b) = \\sum_{i=0}^{N-1}\\|???-c'_i\\|^2 \n",
        "$$\n",
        "\n",
        "*Hint:* For any matrix $A\\inm{M}{N}$ its squared  norm can be calculted by the summation of squared norms of its all columns:\n",
        "$$\n",
        "\\left\\{\n",
        "A\\eqd[a_0,\\dots,a_{N-1}], a_i\\inv{M}, i=0,\\dots,N-1\\right\\} \\lra \\|A\\|^2 = \\sum_{i=0}^{N-1}\\|a_i\\|^2\n",
        "$$"
      ]
    },
    {
      "cell_type": "markdown",
      "source": [
        "**Solution:**"
      ],
      "metadata": {
        "id": "k325wQwY5dyB"
      }
    },
    {
      "cell_type": "markdown",
      "source": [
        "Applying this hint to the Procrustes loss function, we can express it as:\n",
        "$$\n",
        "\\cl{E}(R,s,b) = \\sum_{i=0}^{N-1}\\|sRc_i+b-c'_i\\|^2 \n",
        "$$"
      ],
      "metadata": {
        "id": "yxheOumk5gnR"
      }
    },
    {
      "cell_type": "markdown",
      "metadata": {
        "id": "e9suVZXCuMKe"
      },
      "source": [
        "###Solution of the generalized Procrustes problem\n",
        "\n",
        "The following formulas define the optimal solution for clouds of points of any dimension $M$, i.e. the point clouds $C, C'\\inm{M}{N}$ are subsets of $\\bb{R}^M$:\n",
        "$$\n",
        "\\ov{C}'\\tp{\\ov{C}}\\overset{svd}{=}U\\Sigma\\tp{V}\n",
        "\\ds \\longrightarrow \\left[\\ds \n",
        "R^{\\ast} \\ass U\\tp{V},\\  s^{\\ast} \\ass \\ds\n",
        "\\frac{\\tr{\\Sigma}}{\\tr{\\ov{C}\\tp{\\ov{C}}}}=\n",
        "\\frac{\\ds\\sum_{i\\in[M]}\\sigma_i}{\\|\\ov{C}\\|^2},\\ b^{\\ast} \\ass \\ov{c}'-s^{\\ast}R^{\\ast}\\ov{c}\\right]\n",
        "$$\n",
        "\n",
        "*Observation:* The above formulas become true if instead of the outer product $\\ov{C}'\\tp{\\ov{C}}$ for the centered clouds of points, we consider the mutual covariance matrix of those clouds $Cov(C',C)\\eqd\\frac{1}{N}\\ov{C}'\\tp{\\ov{C}}$, since as the effect of division by $N$,  $\\sigma_i'=\\frac{\\sigma_i}{N}$, and in the same time the normalization constant $\\frac{1}{N}$ affects the clouds by the factor $\\frac{1}{\\sqrt{N}}$:\n",
        "$$\n",
        "\\begin{array}{l}\n",
        "Cov(C',C)\\eqd\\frac{1}{N}\\ov{C}'\\tp{\\ov{C}} = \\left(\\frac{\\ov{C}'}{\\sqrt{N}}\\right)\\left(\\frac{\\tp{\\ov{C}}}{\\sqrt{N}}\\right)\n",
        "\\overset{svd}{=}U\\underbrace{\\left(\\frac{\\Sigma}{N}\\right)}_{\\Sigma'}\\tp{V}\\\\\n",
        "\\ds \\longrightarrow \\left[\\ds \n",
        "R^{\\ast} \\ass U\\tp{V},\\  s^{\\ast} \\ass \n",
        "\\frac{\\tr{\\Sigma'}}{\\tr{Cov(C,C)}}=\n",
        "\\ds\\frac{\\ds\\sum_{i\\in[M]}\\frac{1}{N}\\sigma_i}{\\left\\|\\frac{1}{\\sqrt{N}}\\ov{C}\\right\\|^2}=\\frac{\\ds\\sum_{i\\in[M]}\\sigma_i}{\\|\\ov{C}\\|^2}\\right]\n",
        "\\end{array}\n",
        "$$"
      ]
    },
    {
      "cell_type": "markdown",
      "metadata": {
        "id": "CPPAxNIS2uPj"
      },
      "source": [
        "#####**Problem (math)** (Geometric interpretation of SVD matrix factors)\n",
        "\n",
        "To get a geometric intuition on SVD decomposition for any matrix $A\\inm{m}{n}$, consider the image $S'$ of the unit sphere $S(0_n;1)$ under mapping $A:\\bb{R}^n\\ra\\bb{R}^m:$\n",
        "$$\n",
        "S'\\eqd\\{Ax|\\ x\\inv{n},\\ \\tp{x}x=1\\}\n",
        "$$ \n",
        "You can easily check that $S'$ is symmetric with respect to the zero $0_m\\inv{m}$ - the coordinate origin. You can also find in $S'$, the nearest and the furthest points from zero and located on the surface $S'$. Simply, inspect the stationary points of Lagrangian function $L(x,\\lambda)=\\|Ax\\|^2-\\lambda\\|x\\|^2=\n",
        "\\tp{x}(\\tp{A}A)x-\\lambda\\tp{x}x$:\n",
        "$$\n",
        "  \\od{L(x,\\lambda)}{x}=2\\tp{A}{A}x-2\\lambda x=0_n\\lra \\tp{A}Ax=\\lambda x \\text{ and } \\|Ax\\|^2=\\lambda\\|x\\|^2=\\lambda\n",
        "$$\n",
        "Hence the furthest point from (nearest point from) zero $0_m$, located on $S'$ is the eigenvector $v_{max}$  ($v_{min}$) of the matrix $\\tp{A}A$ corresponding to the biggest $\\lambda_{max}$(the least $\\lambda_{min}$) eigenvalue. Those vectors can be found from EVD (*eigenvalue decomposition*) of this matrix:\n",
        "$$\n",
        "\\Lambda=\\diag{\\lambda_{max},\\dots,\\lambda_{min}} \\lra \\tp{A}{A} \\overset{evd}{=} V \\Lambda \\tp{V}\n",
        "$$\n",
        "\n",
        "To see the geometric sense of matrix factors, i.e the othogonal matrix $U\\inm{m}{m}$, the diagonal  matrix $\\Sigma\\inm{m}{n}$, and the orthogonal matrix $V\\inm{n}{n},$ verify the following implication:\n",
        "$$\n",
        " \\tp{U}U=I_m,\\ \\Sigma=\\diag{\\sigma_{max},\\dots,\\sigma_{min}},\\ \\tp{V}V=I_n,\\ \n",
        "A\\overset{svd}{=}U\\Sigma\\tp{V} \\lra \n",
        "\\tp{A}A = V\\Sigma^2\\tp{V}\n",
        "$$\n",
        "In the geometric terms, the surface $S'$ is the *hyper-ellipsoid*.\n",
        "\n",
        "Hence $V$ keeps the half-axes of the ellipsoid $S'$ and $\\Sigma$ includes the lengths of those half-axes.\n",
        "\n",
        "Can you guess how is defined the hyper-ellipsoid $S''$ for which the matrix $U$ keeps its half-axes?\n",
        "\n",
        "\n",
        "---\n",
        "\n",
        "\n",
        "\n"
      ]
    },
    {
      "cell_type": "markdown",
      "metadata": {
        "id": "8tyL1_F8uU8t"
      },
      "source": [
        "####Function `generalProcrustes` "
      ]
    },
    {
      "cell_type": "code",
      "metadata": {
        "id": "LWpvmaMQPB0j"
      },
      "source": [
        "def generalProcrustes(C_out,C_in): \n",
        "  ucorr = np.dot(C_out,C_in.T)\n",
        "  U,sigmas,Vt = svd(ucorr); R = np.dot(U,Vt)\n",
        "  s = np.sum(sigmas)/np.sum(C_in*C_in)\n",
        "  cp = np.mean(C_out,axis=1); c = np.mean(C_in,axis=1)\n",
        "  b = cp-s*np.dot(R,c)\n",
        "  return R,s,b"
      ],
      "execution_count": null,
      "outputs": []
    },
    {
      "cell_type": "markdown",
      "metadata": {
        "id": "afW3t4GIwMrB"
      },
      "source": [
        "#####**Exercise** (on testing function `generalProcrustes`)\n",
        "\n",
        "Let $C\\inm{3}{100}$ be a cloud of $n=100$ points in 3D space generated  randomly according to the standard normal distribution. We make a rotation, scaling, and translation (shift) according the following formula: \n",
        "$$\n",
        "c'_i = \n",
        "3\\cdot\n",
        "\\left[\n",
        "\\begin{array}{ccc}\n",
        "\\frac{\\sqrt{3}}{2} & -\\frac{1}{2} & 0\\\\\n",
        "\\frac{1}{2} & \\frac{\\sqrt{3}}{2} & 0\\\\\n",
        "0 & 0 & 1\n",
        "\\end{array}\n",
        "  \\right]\n",
        "  c_i +\n",
        "\\left[\n",
        "\\begin{array}{c}\n",
        "1\\\\\n",
        "0\\\\\n",
        "-1\n",
        "\\end{array}\n",
        "  \\right],\\ i=0,\\dots,99\n",
        "$$ \n",
        "Check the correctness of procrustes theorem on provided data."
      ]
    },
    {
      "cell_type": "markdown",
      "metadata": {
        "id": "d8sWiY3qCRe9"
      },
      "source": [
        "**Solution**"
      ]
    },
    {
      "cell_type": "markdown",
      "metadata": {
        "id": "0cWy9m3fsjkR"
      },
      "source": [
        "*Define affine transformation*"
      ]
    },
    {
      "cell_type": "code",
      "metadata": {
        "id": "EsuKxSYF74s2"
      },
      "source": [
        "s = 3\n",
        "b = np.array([1,0,-1.])\n",
        "sq3 = np.sqrt(3)\n",
        "R = np.array([[sq3/2,-1/2,0],[1/2,sq3/2,0],[0,0,1]])"
      ],
      "execution_count": null,
      "outputs": []
    },
    {
      "cell_type": "markdown",
      "metadata": {
        "id": "7kU5Kojds5wJ"
      },
      "source": [
        "*Check orthogonality*"
      ]
    },
    {
      "cell_type": "code",
      "metadata": {
        "id": "GpvNbSR6s-mL",
        "colab": {
          "base_uri": "https://localhost:8080/"
        },
        "outputId": "e48f3b8e-878b-4848-bbb2-debeb65e981b"
      },
      "source": [
        "print('Orthogonal?:\\n',np.dot(R.T,R))"
      ],
      "execution_count": null,
      "outputs": [
        {
          "output_type": "stream",
          "name": "stdout",
          "text": [
            "Orthogonal?:\n",
            " [[1. 0. 0.]\n",
            " [0. 1. 0.]\n",
            " [0. 0. 1.]]\n"
          ]
        }
      ]
    },
    {
      "cell_type": "markdown",
      "source": [
        "It's orthogonal."
      ],
      "metadata": {
        "id": "l2J7wjJ87M8l"
      }
    },
    {
      "cell_type": "markdown",
      "metadata": {
        "id": "AHYqbiectHb9"
      },
      "source": [
        "*Generate random cloud of points and make centering*"
      ]
    },
    {
      "cell_type": "code",
      "metadata": {
        "id": "3iuw6Jmz8nEB"
      },
      "source": [
        "from numpy.linalg import det,svd,norm\n",
        "from numpy.random import randn"
      ],
      "execution_count": null,
      "outputs": []
    },
    {
      "cell_type": "code",
      "metadata": {
        "id": "8IX93UB589n9",
        "colab": {
          "base_uri": "https://localhost:8080/"
        },
        "outputId": "7b26f131-697b-4b53-c6b0-fc890ab138b0"
      },
      "source": [
        "C = randn(3,100); c_avg = np.average(C,axis=1)\n",
        "C = C-np.outer(c_avg,np.ones(100)); c_avg = np.average(C,axis=1)\n",
        "print('Is centered?:',c_avg)"
      ],
      "execution_count": null,
      "outputs": [
        {
          "output_type": "stream",
          "name": "stdout",
          "text": [
            "Is centered?: [ 5.55111512e-18  2.44249065e-17 -3.30291350e-17]\n"
          ]
        }
      ]
    },
    {
      "cell_type": "markdown",
      "metadata": {
        "id": "g-D4_ZiCt6q_"
      },
      "source": [
        "*Apply affine transformation*\n",
        "\n",
        "Now we have two clouds: input $C\\inm{3}{100}$ and output $C'\\inm{3}{100}$."
      ]
    },
    {
      "cell_type": "code",
      "metadata": {
        "id": "Lhc5forBtsKR"
      },
      "source": [
        "Cp = s*np.dot(R,C)+np.outer(b,np.ones(100))"
      ],
      "execution_count": null,
      "outputs": []
    },
    {
      "cell_type": "markdown",
      "metadata": {
        "id": "iEf1cATjuaLj"
      },
      "source": [
        "*Implement explicit solution of Procrustes problem*"
      ]
    },
    {
      "cell_type": "code",
      "metadata": {
        "id": "53vtU8xc9ZCI"
      },
      "source": [
        "U,Sigma,Vt = svd(np.dot(Cp,C.T))\n",
        "R_star = np.dot(U,Vt)\n",
        "s_star = np.sum(Sigma)/np.sum(C*C)\n",
        "b_star = np.average(Cp,axis=1)"
      ],
      "execution_count": null,
      "outputs": []
    },
    {
      "cell_type": "markdown",
      "metadata": {
        "id": "zWXOqn0Ju-7z"
      },
      "source": [
        "*Verify recovered parameters of the transformation*"
      ]
    },
    {
      "cell_type": "code",
      "metadata": {
        "id": "9zuRWhi-vGzT",
        "colab": {
          "base_uri": "https://localhost:8080/"
        },
        "outputId": "7b0df494-b0ec-43c0-dcda-236ca8bc3c19"
      },
      "source": [
        "print('R-R_star:',R-R_star)\n",
        "print('error for rotation matrix ||R-R_star||:',norm(R-R_star))\n",
        "print('error for scale = |s-s_star|:',abs(s-s_star))\n",
        "print('error for shift = ||b-b_star||:',norm(b-b_star))"
      ],
      "execution_count": null,
      "outputs": [
        {
          "output_type": "stream",
          "name": "stdout",
          "text": [
            "R-R_star: [[-3.33066907e-16 -2.77555756e-16 -5.33515388e-16]\n",
            " [ 2.77555756e-16 -2.22044605e-16 -3.09730311e-16]\n",
            " [ 5.83790142e-16 -4.77651661e-16 -2.22044605e-16]]\n",
            "error for rotation matrix ||R-R_star||: 1.1459271999146245e-15\n",
            "error for scale = |s-s_star|: 4.440892098500626e-16\n",
            "error for shift = ||b-b_star||: 3.194074993567901e-16\n"
          ]
        }
      ]
    },
    {
      "cell_type": "markdown",
      "metadata": {
        "id": "XKZmpotxuqVa"
      },
      "source": [
        "*Use the function `generalProcrustes`*"
      ]
    },
    {
      "cell_type": "code",
      "metadata": {
        "id": "OAr7-qH8-PqJ"
      },
      "source": [
        "R_star,s_star,b_star = generalProcrustes(Cp,C)"
      ],
      "execution_count": null,
      "outputs": []
    },
    {
      "cell_type": "markdown",
      "metadata": {
        "id": "YpnsyDo_w5F-"
      },
      "source": [
        "*and verify ...*"
      ]
    },
    {
      "cell_type": "code",
      "metadata": {
        "id": "z1c3RWgowuN2",
        "colab": {
          "base_uri": "https://localhost:8080/"
        },
        "outputId": "fa42aa82-0ed1-44f7-d155-d80a480ccb36"
      },
      "source": [
        "print('R-R_star:',R-R_star)\n",
        "print('error for rotation matrix ||R-R_star||:',norm(R-R_star))\n",
        "print('error for scale = |s-s_star|:',abs(s-s_star))\n",
        "print('error for shift = ||b-b_star||:',norm(b-b_star))"
      ],
      "execution_count": null,
      "outputs": [
        {
          "output_type": "stream",
          "name": "stdout",
          "text": [
            "R-R_star: [[-3.33066907e-16 -2.77555756e-16 -5.33515388e-16]\n",
            " [ 2.77555756e-16 -2.22044605e-16 -3.09730311e-16]\n",
            " [ 5.83790142e-16 -4.77651661e-16 -2.22044605e-16]]\n",
            "error for rotation matrix ||R-R_star||: 1.1459271999146245e-15\n",
            "error for scale = |s-s_star|: 4.440892098500626e-16\n",
            "error for shift = ||b-b_star||: 3.143025211835776e-16\n"
          ]
        }
      ]
    },
    {
      "cell_type": "markdown",
      "metadata": {
        "id": "D7sSF_5CCYSW"
      },
      "source": [
        "**End of Solution**"
      ]
    },
    {
      "cell_type": "markdown",
      "metadata": {
        "id": "9zPPbT1WXO3F"
      },
      "source": [
        "#####**Q4T** (D.1)\n",
        "Let the cloud $C'=RC$ be created by the rotation with matrix $R=[r_x,r_y,r_z]$, i.e. $\\tp{R}R=I_n,$ $\\det{R}=1$. We modify the transformation by swapping two columns of $R$, getting the matrix $R'\\eqd[r_y,r_x,r_z].$ Is it true that $R`$ is the rotation matrix?"
      ]
    },
    {
      "cell_type": "markdown",
      "source": [
        "**Answer:**"
      ],
      "metadata": {
        "id": "rEmynqgu9ub6"
      }
    },
    {
      "cell_type": "markdown",
      "source": [
        "When we swap two columns of an orthogonal matrix R, it changes the order of the columns, but it does not affect the orthogonality of the matrix. In other words, the resulting matrix R'=[ry,rx,rz] is still orthogonal.\n",
        "\n",
        "However, a matrix R is also a rotation matrix if its determinant det(R) equals 1.\n",
        "\n",
        "When we swap two columns of a rotation matrix R, the determinant changes sign, i.e., det(R') = -det(R), and therefore, R' is not a rotation matrix anymore."
      ],
      "metadata": {
        "id": "lpULbIo79w6V"
      }
    },
    {
      "cell_type": "markdown",
      "metadata": {
        "id": "NkXavR0-aoGr"
      },
      "source": [
        "#####**Q4T** (D.2)\n",
        "Let $C\\inm{3}{100}$ be a cloud of $n=100$ points in 3D space generated  randomly according to the standard normal distribution. We make a rotation, scaling, and translation (shift) according the following formula: \n",
        "$$\n",
        "c'_i = \n",
        "3\\cdot\n",
        "\\left[\n",
        "\\begin{array}{ccc}\n",
        "-\\frac{1}{2} & \\frac{\\sqrt{3}}{2} &  0\\\\\n",
        "\\frac{\\sqrt{3}}{2} & \\frac{1}{2} & 0\\\\\n",
        "0 & 0 & 1\n",
        "\\end{array}\n",
        "  \\right]\n",
        "  c_i +\n",
        "\\left[\n",
        "\\begin{array}{c}\n",
        "1\\\\\n",
        "0\\\\\n",
        "-1\n",
        "\\end{array}\n",
        "  \\right],\\ i=0,\\dots,99\n",
        "$$ \n",
        "Note that the above transformation is not rotation. Apply the Procrustes formulas for the clouds $C,C'$. Have you recovered the above transformation? "
      ]
    },
    {
      "cell_type": "markdown",
      "source": [
        "**Solution:**"
      ],
      "metadata": {
        "id": "i-Z6j1qn-wRW"
      }
    },
    {
      "cell_type": "code",
      "source": [
        "# Generating random cloud C\n",
        "np.random.seed(123)\n",
        "C = np.random.randn(3, 100)\n",
        "\n",
        "# Applying transformation to get C'\n",
        "R = np.array([[-1/np.sqrt(2), 1/np.sqrt(2), 0],\n",
        "              [-1/np.sqrt(6), -1/np.sqrt(6), 2/np.sqrt(6)],\n",
        "              [1/np.sqrt(3), 1/np.sqrt(3), 1/np.sqrt(3)]])\n",
        "s = 3\n",
        "b = np.array([[1], [-1], [0]])\n",
        "C_prime = s * np.dot(R, C) + b\n",
        "\n",
        "# Applying Procrustes formulas\n",
        "R_est, s_est, b_est = generalProcrustes(C_prime, C)\n",
        "\n",
        "# Printing the estimated rotation matrix, scaling factor, and translation vector\n",
        "print(\"Estimated rotation matrix:\\n\", R_est)\n",
        "print(\"\\nEstimated scaling factor:\", s_est)\n",
        "print(\"\\nEstimated translation vector:\\n\", b_est)"
      ],
      "metadata": {
        "colab": {
          "base_uri": "https://localhost:8080/"
        },
        "id": "suw3S1Hr-yXF",
        "outputId": "0327f1c9-9da0-4184-e2eb-6a3a990bf551"
      },
      "execution_count": null,
      "outputs": [
        {
          "output_type": "stream",
          "name": "stdout",
          "text": [
            "Estimated rotation matrix:\n",
            " [[-0.70485724  0.70906228 -0.02017315]\n",
            " [-0.41551134 -0.38966387  0.82189561]\n",
            " [ 0.57491443  0.58770124  0.56928082]]\n",
            "\n",
            "Estimated scaling factor: 3.0155810571421764\n",
            "\n",
            "Estimated translation vector:\n",
            " [ 9.94658012e-01 -9.95504144e-01 -7.18371480e-04]\n"
          ]
        }
      ]
    },
    {
      "cell_type": "markdown",
      "source": [
        "As we can see, the estimated rotation matrix R_est is not the same as the original rotation matrix R. This is because the original transformation is not a rotation, but a combination of rotation, scaling, and translation. However, the estimated transformation does recover the scaling factor and translation vector of the original transformation."
      ],
      "metadata": {
        "id": "C_8D93wC-8LX"
      }
    },
    {
      "cell_type": "markdown",
      "metadata": {
        "id": "MwGtBNcKXR5m"
      },
      "source": [
        "#####**Q4T** (D.3)\n",
        "Suppose, the points of cloud $C'$ are observed with measurement error of normal distribution with $\\sigma=3$. Then Procrustes reconstruction of rotation matrix differs in Frobenius norm by about $0.3:$ $\\|R-R^*\\|_F\\approx 0.3$. Is it true?"
      ]
    },
    {
      "cell_type": "markdown",
      "source": [
        "**Answer:** Yes It's True"
      ],
      "metadata": {
        "id": "X1gM8_JNAQ2W"
      }
    },
    {
      "cell_type": "markdown",
      "source": [
        "**Experiment:**"
      ],
      "metadata": {
        "id": "ROQ_aaI0BZHP"
      }
    },
    {
      "cell_type": "code",
      "source": [
        "# Generating random cloud C\n",
        "C = np.random.randn(3, 100)\n",
        "\n",
        "# Applying transformation to get C'\n",
        "R = np.array([[-1/np.sqrt(2), 1/np.sqrt(2), 0],\n",
        "              [-1/np.sqrt(6), -1/np.sqrt(6), 2/np.sqrt(6)],\n",
        "              [1/np.sqrt(3), 1/np.sqrt(3), 1/np.sqrt(3)]])\n",
        "s = 3\n",
        "b = np.array([[1], [-1], [0]])\n",
        "C_prime = s * np.dot(R, C) + b\n",
        "\n",
        "# Adding measurement error to C'\n",
        "sigma = 3\n",
        "C_prime += np.random.normal(scale=sigma, size=C_prime.shape)\n",
        "\n",
        "# Applying Procrustes formulas\n",
        "R_est, s_est, b_est = generalProcrustes(C_prime, C)\n",
        "\n",
        "# Printing the estimated rotation matrix, scaling factor, and translation vector\n",
        "print(\"Estimated rotation matrix:\\n\", R_est)\n",
        "print(\"\\nEstimated scaling factor:\", s_est)\n",
        "print(\"\\nEstimated translation vector:\\n\", b_est)\n",
        "\n",
        "# Calculating the Frobenius norm between R and R_est\n",
        "f_norm = np.linalg.norm(R - R_est, 'fro')\n",
        "print(\"\\nFrobenius norm between R and R_est:\", f_norm)"
      ],
      "metadata": {
        "colab": {
          "base_uri": "https://localhost:8080/"
        },
        "id": "_4rS1_rbAVuL",
        "outputId": "0ac28e2f-7817-4977-dd42-e194509d5727"
      },
      "execution_count": null,
      "outputs": [
        {
          "output_type": "stream",
          "name": "stdout",
          "text": [
            "Estimated rotation matrix:\n",
            " [[-0.6429033   0.75255321  0.14261491]\n",
            " [-0.35815834 -0.45995003  0.81250758]\n",
            " [ 0.67705092  0.47128509  0.5652366 ]]\n",
            "\n",
            "Estimated scaling factor: 3.1013449524970116\n",
            "\n",
            "Estimated translation vector:\n",
            " [ 1.06680645 -1.3440132  -0.12862012]\n",
            "\n",
            "Frobenius norm between R and R_est: 0.23035026662024488\n"
          ]
        }
      ]
    },
    {
      "cell_type": "markdown",
      "metadata": {
        "id": "H7xTDw4RlCdq"
      },
      "source": [
        "####*Proof of the generalized Procrustes theorem*\n",
        "\n",
        "*Initial observations:*<br>\n",
        "The minimization problem of error function  $\\cl{E}(R,s,b)\\eqd\\ds\\min_{s,R,b}\\left\\|sRC+b\\tp{1}_N-C'\\right\\|^2$ dla $C,C'\\inm{M}{N}$, can be reduced in few steps to the simpler problem $\\min_{s,R}\\left\\|A-sRB\\right\\|^2$:\n",
        "1. Let us notice that at the fixed  parameters $s,R$, the optimal vector $b$ minimizes the squared error for the set of points which are stored in the columns of the matrix $C'-sRC$. \n",
        "$$\n",
        "b^{\\ast}=\\arg\\min_b\\|C'-sRC-b\\tp{1}_N\\|^2 = \\arg\\min_b\\sum_{i\\in[N]}\\|(c'_i-sRc_i)-b\\|^2 \\lra\n",
        "b^{\\ast}=\\frac{1}{N}\\sum_{i\\in[N]} (c'_i-sRc_i) = \\ov{c}'-sR\\ov{c}\n",
        "$$\n",
        "Therefore the optimal solution  $b$ must be the centroid this point set, i.e.  $b^{\\ast} = \\ov{c}'-sR\\ov{c}$.\n",
        "2. Replacing in the formula for the error function $\\cl{E}$ the parameter $b$ by its optimal form expressed wrt to $s,R$, we define matrices $A,B$, as follows: \n",
        "$$\n",
        "\\begin{array}{l}\n",
        "b = \\ov{c}'-sR\\ov{c},\\ \n",
        "A \\eqd C'-\\ov{c}'\\tp{1}_N,\\ \n",
        "B \\eqd C-\\ov{c}\\tp{1}_N\\\\[2pt] \n",
        "\\lra \\cl{E}(R,s,b) = \\left\\|sRC+b\\tp{1}_N-C'\\right\\|^2 = \\left\\|A-sRB\\right\\|^2\n",
        "\\end{array}\n",
        "$$"
      ]
    },
    {
      "cell_type": "markdown",
      "metadata": {
        "id": "rCPyM7z6OpZz"
      },
      "source": [
        "*The main part of the proof:*<br>\n",
        "1. The norm via the *trace* operator:\n",
        "$$\\|A-sRB\\|_F^2=\\tr{A\\tp{A}}+s^2\\cdot\\tr{B\\tp{B}}-2s\\cdot\\tr{A\\tp{B}\\tp{R}}$$\n",
        "*Note:*  The factor two at the above third term follows from the basic properties of trace and transposition operators:\n",
        "$$\n",
        "\\begin{array}{l}\n",
        "\\tr{(X-Y)\\tp{(X-Y)}} = \\tr{X\\tp{X}}+\\tr{Y\\tp{Y}}-(\\tr{X\\tp{Y}}+\\tr{Y\\tp{X}})\\\\[3pt]\n",
        "\\tp{(X\\tp{Y})}=Y\\tp{X} \\lra \\tr{Y\\tp{X}}=\\tr{X\\tp{Y}} \\lra\n",
        "(\\tr{X\\tp{Y}}+\\tr{Y\\tp{X}}) = 2\\cdot\\tr{X\\tp{Y}}\n",
        "\\end{array}\n",
        "$$\n",
        "where $X\\eqd A,\\ Y\\eqd sRB.$<br>\n",
        "The basic properties of trace and transposition which were used above are as follows for any matrices $S,T\\inm{M}{M}$:\n",
        "$$\n",
        "\\tr{S\\pm T} = \\tr{S}\\pm \\tr{T},\\ \\tr{\\tp{S}}=\\tr{S}\n",
        "$$\n",
        "1. The equivalent *trace* problem (at the fixed $s\\in\\bb{R}_+$):\n",
        "$$R^*=\\arg\\max_{R:\\tp{R}R=I_m}\\tr{A\\tp{B}\\tp{R}}$$\n",
        "1. The SVD decomposition : $$A\\tp{B}\\xeq{svd}{U\\Sigma \\tp{V}}$$\n",
        "1. The orthonormal matrix $Z\\eqd \\tp{V}\\tp{R}U:$\n",
        "$$\\tr{A\\tp{B}\\tp{R}}=\\tr{U\\Sigma \\tp{V}\\tp{R}}=\\tr{\\Sigma \\tp{V}\\tp{R}U} =\\tr{\\Sigma Z}$$\n",
        "*Note:* In the second equality the moving of the matrix $U$ from the first position to the last position follows from the property  $\\tr{XY}=\\tr{YX}$ which is true only for the matrices $X,Y\\inm{M}{M}$, where in this case $X\\eqd U,\\ Y\\eqd\\Sigma \\tp{V}\\tp{R} \\lra X,Y\\inm{M}{M}$\n",
        "1. The upper bound:\n",
        "$$|Z_{ij}|\\leq 1 \\lra \\tr{\\Sigma Z}=\\sum_i\\sigma_i Z_{ii}\\leq \\sum_i\\sigma_i.$$\n",
        "1. *Conclusion 1*<br>\n",
        "$R=U\\tp{V} \\lra Z=I_m$ leads to the maximum value of  $\\tr{\\Sigma Z}= \\tr{A\\tp{B}\\tp{R}}$ and then for $s\\in\\bb{R}_+$ the expression  $\\|A-sRB\\|_F^2$ gets the minimal value equal to:\n",
        "$$\\tr{A\\tp{A}}+s^2\\cdot\\tr{B\\tp{B}}-2s\\cdot\\tr{\\Sigma}$$\n",
        "1. *Conclusion 2*<br>\n",
        "The minimal value of modelling error $\\|A-sR^{\\ast}B\\|_F^2$ is achieved for the scaling coefficient: $$s^{\\ast}=\\frac{\\tr{\\Sigma}}{\\tr{B\\tp{B}}}$$\n",
        "\n",
        "$\\Box$\n"
      ]
    }
  ]
}